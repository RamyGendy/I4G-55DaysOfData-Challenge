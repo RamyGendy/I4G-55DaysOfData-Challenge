{
 "cells": [
  {
   "cell_type": "markdown",
   "id": "39f92924-bdc7-4280-9f6c-f5eb3178fe64",
   "metadata": {
    "id": "bA5ajAmk7XH6"
   },
   "source": [
    "# This IDE is to write code and analyze data collaboratively and share data insights."
   ]
  },
  {
   "cell_type": "code",
   "execution_count": null,
   "id": "abae472e-55e6-442d-bc6b-e074dc2bea4b",
   "metadata": {},
   "outputs": [],
   "source": [
    "#Needed libraries\n",
    "import numpy as np\n",
    "import pandas as pd\n",
    "from seaborn import load_dataset\n",
    "from sklearn.neighbors import KNeighborsClassifier\n",
    "from sklearn.model_selection import train_test_split\n",
    "from sklearn.linear_model import LogisticRegression\n"
   ]
  },
  {
   "cell_type": "code",
   "execution_count": null,
   "id": "d74d6de5-c0e7-4263-9fee-4bee8fed5aaa",
   "metadata": {},
   "outputs": [],
   "source": []
  }
 ],
 "metadata": {
  "colab": {
   "name": "Welcome to DataCamp Workspaces.ipynb",
   "provenance": []
  },
  "editor": "DataCamp Workspace",
  "kernelspec": {
   "display_name": "Python 3 (ipykernel)",
   "language": "python",
   "name": "python3"
  },
  "language_info": {
   "codemirror_mode": {
    "name": "ipython",
    "version": 3
   },
   "file_extension": ".py",
   "mimetype": "text/x-python",
   "name": "python",
   "nbconvert_exporter": "python",
   "pygments_lexer": "ipython3",
   "version": "3.8.10"
  }
 },
 "nbformat": 4,
 "nbformat_minor": 5
}
